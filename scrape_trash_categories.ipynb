{
 "cells": [
  {
   "cell_type": "code",
   "execution_count": null,
   "metadata": {},
   "outputs": [],
   "source": [
    "import requests\n",
    "from bs4 import BeautifulSoup\n",
    "import json\n",
    "from tqdm import tqdm"
   ]
  },
  {
   "cell_type": "code",
   "execution_count": null,
   "metadata": {},
   "outputs": [],
   "source": [
    "# url = 'https://segregujna5.um.warszawa.pl/wp-admin/admin-ajax.php?action=search_waste&phrase={}'\n",
    "\n",
    "# all_letters = 'abcdefghijklmnopqrstuvwxyz'"
   ]
  },
  {
   "cell_type": "code",
   "execution_count": null,
   "metadata": {},
   "outputs": [],
   "source": [
    "# list_of_waste = []\n",
    "# ids = set()\n",
    "# for letter in tqdm(all_letters):\n",
    "#     current_url = url.format(letter)\n",
    "#     response = requests.get(current_url)\n",
    "#     data = response.json()\n",
    "#     data = [d for d in data if d['ID'] not in ids]\n",
    "#     current_ids = set([d['ID'] for d in data])\n",
    "\n",
    "#     ids.update(current_ids)\n",
    "#     list_of_waste.extend(data)\n",
    "#     print(len(data))\n",
    "    "
   ]
  },
  {
   "cell_type": "code",
   "execution_count": null,
   "metadata": {},
   "outputs": [],
   "source": [
    "url = 'https://segregujna5.um.warszawa.pl/mapa-strony/'\n",
    "response = requests.get(url)\n",
    "soup = BeautifulSoup(response.text, 'html.parser')\n",
    "trash_types = soup.find('ul', {'class': 'wsp-waste_types-list'}).find_all('li')\n",
    "len(trash_types)"
   ]
  },
  {
   "cell_type": "code",
   "execution_count": null,
   "metadata": {},
   "outputs": [],
   "source": [
    "trash_types[0]"
   ]
  },
  {
   "cell_type": "code",
   "execution_count": null,
   "metadata": {},
   "outputs": [],
   "source": [
    "data = [{'name': t.text, 'url': t.find('a')['href']} for t in trash_types]\n",
    "data[0]"
   ]
  },
  {
   "cell_type": "code",
   "execution_count": null,
   "metadata": {},
   "outputs": [],
   "source": [
    "for d in tqdm(data):\n",
    "    response = requests.get(d['url'])\n",
    "    soup = BeautifulSoup(response.text, 'html.parser')\n",
    "    d['description'] = soup.find('h2').text.replace('–', '-')\n",
    "    assert d['name'].lower() in d['description'].lower()"
   ]
  },
  {
   "cell_type": "code",
   "execution_count": null,
   "metadata": {},
   "outputs": [],
   "source": [
    "with open('data.json', 'w') as f:\n",
    "    json.dump(data, f, indent=4)"
   ]
  },
  {
   "cell_type": "code",
   "execution_count": 1,
   "metadata": {},
   "outputs": [],
   "source": [
    "import pandas as pd"
   ]
  },
  {
   "cell_type": "code",
   "execution_count": null,
   "metadata": {},
   "outputs": [],
   "source": [
    "df = pd.DataFrame(data)"
   ]
  },
  {
   "cell_type": "code",
   "execution_count": null,
   "metadata": {},
   "outputs": [],
   "source": [
    "df['description'].str.split(' - ').str[-1:].str.join(' - ').value_counts()"
   ]
  },
  {
   "cell_type": "code",
   "execution_count": null,
   "metadata": {},
   "outputs": [],
   "source": [
    "l = df.loc[df['description'].str.contains(\"zmieszane\"), 'description'].str.split(' - ').str[:-1].str.join(' - ').to_list()"
   ]
  },
  {
   "cell_type": "code",
   "execution_count": null,
   "metadata": {},
   "outputs": [],
   "source": [
    "df.to_csv('data.csv', index=False)"
   ]
  },
  {
   "cell_type": "code",
   "execution_count": null,
   "metadata": {},
   "outputs": [],
   "source": [
    "df"
   ]
  },
  {
   "cell_type": "code",
   "execution_count": null,
   "metadata": {},
   "outputs": [],
   "source": [
    "description"
   ]
  },
  {
   "cell_type": "code",
   "execution_count": 2,
   "metadata": {},
   "outputs": [
    {
     "data": {
      "text/html": [
       "<div>\n",
       "<style scoped>\n",
       "    .dataframe tbody tr th:only-of-type {\n",
       "        vertical-align: middle;\n",
       "    }\n",
       "\n",
       "    .dataframe tbody tr th {\n",
       "        vertical-align: top;\n",
       "    }\n",
       "\n",
       "    .dataframe thead th {\n",
       "        text-align: right;\n",
       "    }\n",
       "</style>\n",
       "<table border=\"1\" class=\"dataframe\">\n",
       "  <thead>\n",
       "    <tr style=\"text-align: right;\">\n",
       "      <th></th>\n",
       "      <th>name</th>\n",
       "      <th>url</th>\n",
       "      <th>description</th>\n",
       "    </tr>\n",
       "  </thead>\n",
       "  <tbody>\n",
       "    <tr>\n",
       "      <th>0</th>\n",
       "      <td>Pianino</td>\n",
       "      <td>https://segregujna5.um.warszawa.pl/odpady/pian...</td>\n",
       "      <td>Pianino - wyrzuć do pojemnika na gabaryty</td>\n",
       "    </tr>\n",
       "    <tr>\n",
       "      <th>1</th>\n",
       "      <td>Kuchenka gazowa posiadająca instalację elektry...</td>\n",
       "      <td>https://segregujna5.um.warszawa.pl/odpady/kuch...</td>\n",
       "      <td>Kuchenka gazowa posiadająca instalację elektry...</td>\n",
       "    </tr>\n",
       "    <tr>\n",
       "      <th>2</th>\n",
       "      <td>Kuchenka gazowa nieposiadające żadnej instalac...</td>\n",
       "      <td>https://segregujna5.um.warszawa.pl/odpady/kuch...</td>\n",
       "      <td>Kuchenka gazowa nieposiadające żadnej instalac...</td>\n",
       "    </tr>\n",
       "    <tr>\n",
       "      <th>3</th>\n",
       "      <td>Wózek dziecięcy</td>\n",
       "      <td>https://segregujna5.um.warszawa.pl/odpady/woze...</td>\n",
       "      <td>Wózek dziecięcy - wyrzuć do pojemnika na gabaryty</td>\n",
       "    </tr>\n",
       "    <tr>\n",
       "      <th>4</th>\n",
       "      <td>Podkład, fluid do twarzy</td>\n",
       "      <td>https://segregujna5.um.warszawa.pl/odpady/podk...</td>\n",
       "      <td>Podkład, fluid do twarzy - wyrzuć do pojemnika...</td>\n",
       "    </tr>\n",
       "    <tr>\n",
       "      <th>...</th>\n",
       "      <td>...</td>\n",
       "      <td>...</td>\n",
       "      <td>...</td>\n",
       "    </tr>\n",
       "    <tr>\n",
       "      <th>979</th>\n",
       "      <td>Opakowanie po jogurcie, kefirze, śmietanie, se...</td>\n",
       "      <td>https://segregujna5.um.warszawa.pl/odpady/brud...</td>\n",
       "      <td>Opakowanie po jogurcie, kefirze, śmietanie, se...</td>\n",
       "    </tr>\n",
       "    <tr>\n",
       "      <th>980</th>\n",
       "      <td>Styropian opakowaniowy</td>\n",
       "      <td>https://segregujna5.um.warszawa.pl/odpady/czys...</td>\n",
       "      <td>Styropian opakowaniowy - wyrzuć do pojemnika n...</td>\n",
       "    </tr>\n",
       "    <tr>\n",
       "      <th>981</th>\n",
       "      <td>Długopis</td>\n",
       "      <td>https://segregujna5.um.warszawa.pl/odpady/dlug...</td>\n",
       "      <td>Długopis - wyrzuć do pojemnika na odpady zmies...</td>\n",
       "    </tr>\n",
       "    <tr>\n",
       "      <th>982</th>\n",
       "      <td>Nici</td>\n",
       "      <td>https://segregujna5.um.warszawa.pl/odpady/nici/</td>\n",
       "      <td>Nici - wyrzuć do pojemnika na odpady zmieszane</td>\n",
       "    </tr>\n",
       "    <tr>\n",
       "      <th>983</th>\n",
       "      <td>Butelka po lakierze do paznokci</td>\n",
       "      <td>https://segregujna5.um.warszawa.pl/odpady/bute...</td>\n",
       "      <td>Butelka po lakierze do paznokci - wyrzuć do po...</td>\n",
       "    </tr>\n",
       "  </tbody>\n",
       "</table>\n",
       "<p>984 rows × 3 columns</p>\n",
       "</div>"
      ],
      "text/plain": [
       "                                                  name  \\\n",
       "0                                              Pianino   \n",
       "1    Kuchenka gazowa posiadająca instalację elektry...   \n",
       "2    Kuchenka gazowa nieposiadające żadnej instalac...   \n",
       "3                                      Wózek dziecięcy   \n",
       "4                             Podkład, fluid do twarzy   \n",
       "..                                                 ...   \n",
       "979  Opakowanie po jogurcie, kefirze, śmietanie, se...   \n",
       "980                             Styropian opakowaniowy   \n",
       "981                                           Długopis   \n",
       "982                                               Nici   \n",
       "983                    Butelka po lakierze do paznokci   \n",
       "\n",
       "                                                   url  \\\n",
       "0    https://segregujna5.um.warszawa.pl/odpady/pian...   \n",
       "1    https://segregujna5.um.warszawa.pl/odpady/kuch...   \n",
       "2    https://segregujna5.um.warszawa.pl/odpady/kuch...   \n",
       "3    https://segregujna5.um.warszawa.pl/odpady/woze...   \n",
       "4    https://segregujna5.um.warszawa.pl/odpady/podk...   \n",
       "..                                                 ...   \n",
       "979  https://segregujna5.um.warszawa.pl/odpady/brud...   \n",
       "980  https://segregujna5.um.warszawa.pl/odpady/czys...   \n",
       "981  https://segregujna5.um.warszawa.pl/odpady/dlug...   \n",
       "982    https://segregujna5.um.warszawa.pl/odpady/nici/   \n",
       "983  https://segregujna5.um.warszawa.pl/odpady/bute...   \n",
       "\n",
       "                                           description  \n",
       "0            Pianino - wyrzuć do pojemnika na gabaryty  \n",
       "1    Kuchenka gazowa posiadająca instalację elektry...  \n",
       "2    Kuchenka gazowa nieposiadające żadnej instalac...  \n",
       "3    Wózek dziecięcy - wyrzuć do pojemnika na gabaryty  \n",
       "4    Podkład, fluid do twarzy - wyrzuć do pojemnika...  \n",
       "..                                                 ...  \n",
       "979  Opakowanie po jogurcie, kefirze, śmietanie, se...  \n",
       "980  Styropian opakowaniowy - wyrzuć do pojemnika n...  \n",
       "981  Długopis - wyrzuć do pojemnika na odpady zmies...  \n",
       "982     Nici - wyrzuć do pojemnika na odpady zmieszane  \n",
       "983  Butelka po lakierze do paznokci - wyrzuć do po...  \n",
       "\n",
       "[984 rows x 3 columns]"
      ]
     },
     "execution_count": 2,
     "metadata": {},
     "output_type": "execute_result"
    }
   ],
   "source": [
    "df = pd.read_csv('data.csv')\n",
    "df"
   ]
  },
  {
   "cell_type": "code",
   "execution_count": null,
   "metadata": {},
   "outputs": [],
   "source": [
    "all_text = ''\n",
    "for i, row in df.iterrows():\n",
    "    current_text = row['description']\n",
    "    all_text += current_text + '\\n\\n'\n",
    "\n",
    "all_text = all_text.strip()\n",
    "with open('all_text.txt', 'w') as f:\n",
    "    f.write(all_text)"
   ]
  },
  {
   "cell_type": "code",
   "execution_count": null,
   "metadata": {},
   "outputs": [],
   "source": [
    "p = '''\n",
    "1. Drain the liquid from the glass jar (e.g., by pouring it down the sink). 2. Throw the pickled cucumbers and dill and spices into the compost bin[0]. 3. Throw the glass jar into the glass recycling bin[1].\n",
    "'''"
   ]
  },
  {
   "cell_type": "code",
   "execution_count": null,
   "metadata": {},
   "outputs": [],
   "source": [
    "import re\n",
    "\n",
    "l = re.split(r'\\d+\\.', p)\n",
    "l = [s.strip() for s in l if s.strip() != '']\n",
    "l = [f'{i+1}. ' + s for i, s in enumerate(l)]\n",
    "l"
   ]
  }
 ],
 "metadata": {
  "kernelspec": {
   "display_name": "env",
   "language": "python",
   "name": "python3"
  },
  "language_info": {
   "codemirror_mode": {
    "name": "ipython",
    "version": 3
   },
   "file_extension": ".py",
   "mimetype": "text/x-python",
   "name": "python",
   "nbconvert_exporter": "python",
   "pygments_lexer": "ipython3",
   "version": "3.10.12"
  }
 },
 "nbformat": 4,
 "nbformat_minor": 2
}
